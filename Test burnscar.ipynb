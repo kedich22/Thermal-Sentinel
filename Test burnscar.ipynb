{
 "cells": [
  {
   "cell_type": "markdown",
   "id": "c9f1c94f-945b-4b6b-90c8-c74057f1070b",
   "metadata": {},
   "source": [
    "# The tool to visualize lava flows, burnfires with Sentinel-2 multispectral imagery\n",
    "The tool allows to enhance the visualization of \"high-temperature areas\" within the different background: from Natural Colors to different combintations of SWIR bands. Also, the possibility to blend several band visualizations is supported. The choice of all parameters (sensitivity, saturation, manual adjustment, stretching) could be done manually. The full description of all functionality with step-by-step tutorial could be found on github repositorium. Finally, the visualization of final image could be corrected."
   ]
  },
  {
   "cell_type": "markdown",
   "id": "0286d822-8602-4c44-87eb-7a4aed801e9f",
   "metadata": {},
   "source": [
    "Fix the bug with visualization of area of interest"
   ]
  },
  {
   "cell_type": "code",
   "execution_count": 1,
   "id": "f49445f4-437d-47fe-9c92-64f81125eb09",
   "metadata": {},
   "outputs": [],
   "source": [
    "# Initializing for the use of Earth Engine services\n",
    "# In case of the first time use you should authenticate by pasting token in the box and then pressing enter\n",
    "import ee\n",
    "try:\n",
    "    ee.Initialize()\n",
    "except:\n",
    "    ee.Authenticate()\n",
    "    ee.Initialize()"
   ]
  },
  {
   "cell_type": "code",
   "execution_count": 2,
   "id": "5cf50349",
   "metadata": {},
   "outputs": [],
   "source": [
    "import geemap\n",
    "import functools\n",
    "import itertools\n",
    "import ipywidgets as widgets\n",
    "from ipyleaflet import (WidgetControl, Map)\n",
    "import datetime\n",
    "import numpy as np\n",
    "import colorama\n",
    "from colorama import Fore"
   ]
  },
  {
   "cell_type": "markdown",
   "id": "da7c6de5-19eb-4d4a-a840-4d55157cb945",
   "metadata": {
    "jp-MarkdownHeadingCollapsed": true,
    "tags": []
   },
   "source": [
    "---\n",
    "* **Select the area of interest**\n",
    "\n",
    "Choose the area of interest on the map or indicate the coordinates and buffer range (the circle-shape area is not supported, select between rectangle or polygon)\n",
    "In order to define your own area of interest click box `User-defined AOI` and then select the on the map with embedded instruments on the left panel"
   ]
  },
  {
   "cell_type": "code",
   "execution_count": 14,
   "id": "e3774dbd-efda-4129-aa09-64448434c23f",
   "metadata": {},
   "outputs": [
    {
     "data": {
      "application/vnd.jupyter.widget-view+json": {
       "model_id": "8be122070e304fb78a87ddf061aca528",
       "version_major": 2,
       "version_minor": 0
      },
      "text/plain": [
       "VBox(children=(HBox(children=(FloatText(value=0.0, description='Latitude:', layout=Layout(width='25%'), style=…"
      ]
     },
     "metadata": {},
     "output_type": "display_data"
    }
   ],
   "source": [
    "style = {'description_width': 'initial'}\n",
    "\n",
    "lat_widget = widgets.FloatText(description='Latitude:', max_height=20,  style=style, layout=widgets.Layout(width='25%'))\n",
    "long_widget = widgets.FloatText(description='Longtitude:', max_height=20,  style=style, layout=widgets.Layout(width='25%'))\n",
    "aoi_widget = widgets.Checkbox(value=False, description='User-defined AOI', disabled=False)\n",
    "buffer_widget = widgets.IntText(description = 'Distance:', layout=widgets.Layout(width='35%'))\n",
    "\n",
    "def aoi_change(change):\n",
    "    m.layers = m.layers[:3] \n",
    "    m.user_roi = None\n",
    "    m.user_rois = None\n",
    "    m.draw_count = 0\n",
    "    lat_widget.value = 0\n",
    "    long_widget.value = 0\n",
    "    buffer_widget.value = 0\n",
    "    # output_widget.clear_output()\n",
    "    \n",
    "aoi_widget.observe(aoi_change, names='value')\n",
    "\n",
    "coord_widgets = widgets.HBox([lat_widget, long_widget, aoi_widget])\n",
    "coord_buffer = widgets.VBox([coord_widgets, buffer_widget])\n",
    "display(coord_buffer)"
   ]
  },
  {
   "cell_type": "markdown",
   "id": "eb960311-3f87-4146-bcf2-aab86430e4d6",
   "metadata": {},
   "source": [
    "* **Select the date range**\n",
    "\n",
    "After the area of interest has been chosen the next step is to define the interval. Choose the range of dates that you are interested in and then click the button `List images`. After a while a list with all available dates and associated images will appear under these widgets. In case you want to change parameters you could just fill new values to the fields with coordinates or just click `Clear fields`"
   ]
  },
  {
   "cell_type": "code",
   "execution_count": 4,
   "id": "8888038a-2a7a-4db4-9fa2-db3f7bc98b44",
   "metadata": {},
   "outputs": [
    {
     "data": {
      "application/vnd.jupyter.widget-view+json": {
       "model_id": "4349d79f37fe4861a2004f11078604ef",
       "version_major": 2,
       "version_minor": 0
      },
      "text/plain": [
       "VBox(children=(HBox(children=(DatePicker(value=None, description='Start date: '), DatePicker(value=None, descr…"
      ]
     },
     "metadata": {},
     "output_type": "display_data"
    }
   ],
   "source": [
    "submit = widgets.Button(description='List images', button_style='primary', tooltip='Click to submit', style=style)\n",
    "clear_fields = widgets.Button(description='Clear fields', button_style='warning', tooltip='Click to clear', style=style)\n",
    "start_day = widgets.DatePicker(description='Start date: ', disabled=False)\n",
    "end_day = widgets.DatePicker(description='End date: ', disabled=False)\n",
    "output_widget_listimages = widgets.Output()\n",
    "\n",
    "widget_buttons = widgets.HBox([submit, clear_fields])\n",
    "widget_dates = widgets.HBox([start_day, end_day])\n",
    "final_widget = widgets.VBox([widget_dates, widget_buttons, output_widget_listimages])\n",
    "display(final_widget)"
   ]
  },
  {
   "cell_type": "markdown",
   "id": "ec78dd0e-ba21-42c1-94d9-46d70210aaa0",
   "metadata": {},
   "source": [
    "* **Select the image**\n",
    "\n",
    "After the date list is appeared on your screen you should choose one of your interest for further visualization. After that type its number to the field below and click `Submit`. If everything is correct the message *\"The image is selected\"* will appear on the screen. "
   ]
  },
  {
   "cell_type": "code",
   "execution_count": 5,
   "id": "b57ac75d-14cc-4cf3-b01f-f06f7490f43d",
   "metadata": {},
   "outputs": [
    {
     "data": {
      "application/vnd.jupyter.widget-view+json": {
       "model_id": "4a2bd114d42040048a64a31107b8f129",
       "version_major": 2,
       "version_minor": 0
      },
      "text/plain": [
       "HBox(children=(IntText(value=1, description='Date no.:'), Button(button_style='primary', description='Submit',…"
      ]
     },
     "metadata": {},
     "output_type": "display_data"
    },
    {
     "data": {
      "application/vnd.jupyter.widget-view+json": {
       "model_id": "5dec39021f1a4a53bb3665af93372a10",
       "version_major": 2,
       "version_minor": 0
      },
      "text/plain": [
       "Output()"
      ]
     },
     "metadata": {},
     "output_type": "display_data"
    }
   ],
   "source": [
    "day_select_widget = widgets.IntText(value=1, description='Date no.:', disabled=False)\n",
    "submit_sel = widgets.Button(description='Submit', button_style='primary', tooltip='Click to submit', style=style)\n",
    "output_widget_img = widgets.Output()\n",
    "display(widgets.HBox([day_select_widget, submit_sel]))\n",
    "display(output_widget_img)"
   ]
  },
  {
   "cell_type": "code",
   "execution_count": 6,
   "id": "8c467327",
   "metadata": {},
   "outputs": [
    {
     "data": {
      "application/vnd.jupyter.widget-view+json": {
       "model_id": "327b9cbddab94fa88848c8a5aea36a2e",
       "version_major": 2,
       "version_minor": 0
      },
      "text/plain": [
       "Map(center=[20, 0], controls=(WidgetControl(options=['position', 'transparent_bg'], widget=HBox(children=(Togg…"
      ]
     },
     "metadata": {},
     "output_type": "display_data"
    }
   ],
   "source": [
    "m = geemap.Map()\n",
    "m.add_basemap('TERRAIN')\n",
    "m.addLayerControl()\n",
    "output_widget = widgets.Output()\n",
    "output_control = WidgetControl(widget=output_widget, position='bottomright')\n",
    "m.add_control(output_control)\n",
    "m"
   ]
  },
  {
   "cell_type": "code",
   "execution_count": 13,
   "id": "9a46b872-5809-4bc7-af2c-ae030e1e196b",
   "metadata": {},
   "outputs": [],
   "source": [
    "def on_list_clicked(b):\n",
    "    with output_widget_listimages:\n",
    "        output_widget_listimages.clear_output()\n",
    "        print(\"Listing images...\")\n",
    "        \n",
    "        try:\n",
    "            use_aoi = aoi_widget.value\n",
    "\n",
    "            if use_aoi:\n",
    "                if m.user_roi is not None:\n",
    "                    global roi\n",
    "                    roi = m.user_roi\n",
    "                    layer_name = 'User drawn AOI'\n",
    "                    point = roi.centroid(maxError = 2)\n",
    "                else:\n",
    "                    output_widget_listimages.clear_output()\n",
    "                    print('No user AOI is defined')\n",
    "                    return\n",
    "            else:\n",
    "                x_coords = long_widget.value\n",
    "                y_coords = lat_widget.value\n",
    "                buffer_dist = buffer_widget.value\n",
    "                point = ee.Geometry.Point([x_coords, y_coords])\n",
    "                buffer = point.buffer(int(buffer_dist))\n",
    "                roi = buffer.bounds()\n",
    "                layer_name = 'AOI from coordinates'\n",
    "                m.addLayer(roi, {'color': 'blue'}, 'Area of interest')\n",
    "            \n",
    "            m.addLayer(ee.Image().paint(roi, 0, 2), {'palette': 'red'}, layer_name)\n",
    "            start = ee.Date(start_day.value.strftime('%Y-%m-%d'))\n",
    "            end = ee.Date(end_day.value.strftime('%Y-%m-%d'))\n",
    "\n",
    "            zoom = 10\n",
    "            m.centerObject(point, zoom)\n",
    "\n",
    "            global collection\n",
    "            collection = collection_retr(start, end, point)\n",
    "            imagelist = collection.toList(collection.size())\n",
    "\n",
    "            allDates = ee.List(collection.aggregate_array('system:time_start')).getInfo();\n",
    "\n",
    "            def date_retr(date):\n",
    "                return ee.Date(date).format('YYYY-MM-dd').getInfo()\n",
    "\n",
    "            allDatesSimple = list((map(date_retr, allDates)))\n",
    "            allDatesSimple = np.array(allDatesSimple)\n",
    "\n",
    "            output_widget_listimages.clear_output()\n",
    "            global list_dates\n",
    "            list_dates = np.unique(allDatesSimple)\n",
    "            for num, date in enumerate(list_dates):\n",
    "                print(str(num+1) + ') ' + date)\n",
    "                \n",
    "        except Exception as e:\n",
    "            print(e)\n",
    "            print(Fore.RED + 'Try to select other parameters. An error occured!')\n",
    "\n",
    "            \n",
    "               \n",
    "submit.on_click(on_list_clicked)\n",
    "\n",
    "def clear_fields_clicked(b):\n",
    "    try:\n",
    "        lat_widget.value = 0\n",
    "        m.layers = m.layers[:3]  \n",
    "        long_widget.value = 0 \n",
    "        aoi_widget.value = False\n",
    "        buffer_widget.value = 0\n",
    "        start_day.value = None\n",
    "        end_day.value = None\n",
    "    except Exception as e:\n",
    "        with output_widget_listimages:\n",
    "            output_widget_listimages.clear_output()\n",
    "            print(Fore.RED + \"An unknown error occured.\")\n",
    "            print(e)\n",
    "        \n",
    "\n",
    "clear_fields.on_click(clear_fields_clicked)"
   ]
  },
  {
   "cell_type": "code",
   "execution_count": 8,
   "id": "234a40f9-ed6a-4c2a-bfcc-e4c70bc4b2de",
   "metadata": {},
   "outputs": [],
   "source": [
    "def on_submit_clicked(b):\n",
    "    with output_widget_img:\n",
    "        output_widget_img.clear_output()\n",
    "        \n",
    "        try:\n",
    "            day = list_dates[day_select_widget.value-1]\n",
    "            day_end = day + 'T23:59:59'\n",
    "            day_start = ee.Date(day)\n",
    "            day_end = ee.Date(day_end)\n",
    "            selected_images = collection.filterDate(day_start, day_end)\n",
    "            global image_final\n",
    "            image_final = selected_images.first()\n",
    "            print(\"The image is selected!\")\n",
    "        except Exception as e:\n",
    "            print(e)\n",
    "            print(Fore.RED + 'Try to select again the number from the list. An error occured!')\n",
    "\n",
    "submit_sel.on_click(on_submit_clicked)"
   ]
  },
  {
   "cell_type": "markdown",
   "id": "756b81f0-8056-4adf-85e6-ef2f418846c1",
   "metadata": {},
   "source": [
    "* **Define the visualization parameters in the panel below**\n",
    "\n",
    "Firstly, select the band combinations to visulaize. You could blend two options by changing their opacity with a slider under each dropdown window. Furthermore, stretching parameters for the initial image could be modiefied by varying minimum and maximum stretching values. Other parameters are saturation of the image and sensitivity of fire detection.\n",
    "After all, there is a manual adjustment of the final image and visualization parameters: minimum and maximum values."
   ]
  },
  {
   "cell_type": "code",
   "execution_count": 9,
   "id": "14336305-c455-45c9-8b9f-0279f3e4ef7e",
   "metadata": {},
   "outputs": [
    {
     "data": {
      "application/vnd.jupyter.widget-view+json": {
       "model_id": "b26cc9b82279440d87995ed6387dd2ff",
       "version_major": 2,
       "version_minor": 0
      },
      "text/plain": [
       "VBox(children=(Label(value='Visualization selection'), HBox(children=(Dropdown(description='Select band combin…"
      ]
     },
     "metadata": {},
     "output_type": "display_data"
    }
   ],
   "source": [
    "visbands = widgets.Dropdown(description='Select band combination 1:',\n",
    "                                  options=['Natural Colors', 'Enhanced Natural Colors', 'NIR SWIR Colors 1', 'NIR SWIR Colors 2', 'NIR SWIR Colors 3', 'NIR SWIR Colors 4', 'Natural NIR SWIR Mix', 'False Color', 'Natural False Color',\n",
    "                                          'Vegetation', 'Pan Band'], value = 'NIR SWIR Colors 2', style=style, layout=widgets.Layout(width='30%'))\n",
    "visbands_2 = widgets.Dropdown(description='Select band for combination 2:',\n",
    "                                  options=['Natural Colors', 'Enhanced Natural Colors', 'NIR SWIR Colors 1', 'NIR SWIR Colors 2', 'NIR SWIR Colors 3', 'NIR SWIR Colors 4', 'Natural NIR SWIR Mix', 'False Color', 'Natural False Color',\n",
    "                                          'Vegetation', 'Pan Band'], value = 'Enhanced Natural Colors', style=style, layout=widgets.Layout(width='30%'))\n",
    "opac_1 = widgets.FloatSlider(description = 'Opacity 1:', value = 0, min = 0, max = 1, step = 0.05, layout=widgets.Layout(width='30%'))\n",
    "opac_2 = widgets.FloatSlider(description = 'Opacity 2:', value = 1, min = 0, max = 1, step = 0.05, layout=widgets.Layout(width='30%'))\n",
    "visbands_widgets = widgets.HBox([visbands, visbands_2])\n",
    "opac_widget = widgets.HBox([opac_1, opac_2])\n",
    "\n",
    "\n",
    "stretch_min = widgets.FloatText(description = 'Stretch min:', step = 0.05, value = 0.01, layout=widgets.Layout(width='12.5%'))\n",
    "stretch_max = widgets.FloatText(description = 'Stretch max:', width = '20%', step = 0.05, value = 0.9, layout=widgets.Layout(width='12.5%'))\n",
    "satur = widgets.FloatText(description = 'Saturation:', width = '20%', step = 0.05, value = 1, layout=widgets.Layout(width='12.5%'))\n",
    "sensit = widgets.FloatText(description = 'Fire sensitivity:', width = '20%', step = 0.05, value = 1, layout=widgets.Layout(width='12.5%'))\n",
    "stretch_widget = widgets.HBox([stretch_min, stretch_max, satur, sensit])\n",
    "\n",
    "corr_R = widgets.FloatText(value = 0, description = 'Adjust R:', step = 0.05, layout=widgets.Layout(width='16%'))\n",
    "corr_G = widgets.FloatText(value = 0, description = 'G:', width = '20%', step = 0.05, layout=widgets.Layout(width='16%'))\n",
    "corr_B = widgets.FloatText(value = 0, description = 'B:', width = '20%', step = 0.05, layout=widgets.Layout(width='16%'))\n",
    "correction_widget = widgets.HBox([corr_R, corr_G, corr_B])\n",
    "cropping_widget = widgets.RadioButtons(options=['Crop ROI', 'Show full image'], description='Crop area:', value = 'Show full image', disabled=False)\n",
    "visParams_widget_1 = widgets.FloatText(description = \"Vis. min:\", value = 0.0, step = 0.1, max = 5,  layout=widgets.Layout(width='15%'))\n",
    "visParams_widget_2 = widgets.FloatText(description = \"max:\", value = 0.8, step = 0.1, max = 5,  layout=widgets.Layout(width='15%'))\n",
    "visParams_widget = widgets.HBox([cropping_widget, visParams_widget_1, visParams_widget_2])\n",
    "\n",
    "vis = widgets.Button(description='Visualize', button_style='primary', tooltip='Click to visualize', style=style)\n",
    "clear_map = widgets.Button(description='Clear map', button_style='warning', tooltip='Click to clear', style=style) #set up clear map\n",
    "widgets_mapping = widgets.HBox([vis, clear_map])\n",
    "visual_widget = widgets.VBox([widgets.Label('Visualization selection'), visbands_widgets, opac_widget, \n",
    "                              widgets.Label('Image and fire detection adjustment'), stretch_widget, correction_widget, \n",
    "                              widgets.Label('Cropping and visalization'), visParams_widget, widgets_mapping])\n",
    "display(visual_widget)"
   ]
  },
  {
   "cell_type": "code",
   "execution_count": 10,
   "id": "8551e5f0-05cf-4abc-9521-55817c8a2ea1",
   "metadata": {},
   "outputs": [],
   "source": [
    "def clear_map_clicked(b):\n",
    "        m.clear_layers()\n",
    "        m.add_basemap('TERRAIN')\n",
    "clear_map.on_click(clear_map_clicked)"
   ]
  },
  {
   "cell_type": "code",
   "execution_count": 11,
   "id": "b09427e4-9bd3-4b9d-b372-722f8fe74492",
   "metadata": {},
   "outputs": [],
   "source": [
    "def visualize(b):\n",
    "    with output_widget:\n",
    "        output_widget.clear_output()\n",
    "        print('Visualazing...')\n",
    "        Map.default_style = {'cursor': 'wait'}\n",
    "        \n",
    "        try:\n",
    "            image = image_final.divide(10000)\n",
    "\n",
    "            def stretch(image, min, max):\n",
    "                return (image.subtract(min)).divide(max-min)\n",
    "\n",
    "            Fire1OVL = [stretch((image.select('B4').multiply(2.1).add(image.select('B12').multiply(0.5))), 0.01, 0.99).add(1.1), \n",
    "                    stretch((image.select('B3').multiply(2.2).add(image.select('B8').multiply(0.5))), 0.01, 0.99), \n",
    "                    stretch(image.select('B2').multiply(2.1), 0.01, 0.99)]\n",
    "            Fire2OVL = [stretch((image.select('B4').multiply(2.1).add(image.select('B12').multiply(0.5))), 0.01, 0.99).add(1.1), \n",
    "                    stretch((image.select('B3').multiply(2.2).add(image.select('B8').multiply(0.5))), 0.01, 0.99).add(0.25), \n",
    "                    stretch(image.select('B2').multiply(2.1), 0.01, 0.99)]\n",
    "            Fire3OVL = [stretch((image.select('B4').multiply(2.1).add(image.select('B12').multiply(0.5))), 0.01, 0.99).add(1.1), \n",
    "                    stretch((image.select('B3').multiply(2.2).add(image.select('B8').multiply(0.5))), 0.01, 0.99).add(0.5), \n",
    "                    stretch(image.select('B2').multiply(2.1), 0.01, 0.99)]\n",
    "\n",
    "            fire_layers = [ee.Image(Fire1OVL), ee.Image(Fire2OVL), ee.Image(Fire3OVL)]\n",
    "\n",
    "            def combo_selection(input, image):\n",
    "                if input == 'Natural Colors':\n",
    "                    layer = [image.select('B4').multiply(2.9), image.select('B3').multiply(3.1), image.select('B2').multiply(3.0)] #NatruralColors\n",
    "                elif input == 'Enhanced Natural Colors':\n",
    "                    layer = [(image.select('B4').multiply(2.8)).add(image.select('B5').multiply(0.1)), (image.select('B3').multiply(2.8)).add(image.select('B8').multiply(0.15)),\n",
    "                                 image.select('B2').multiply(2.8)] #Enhanced Natural Colors\n",
    "                elif input == 'NIR SWIR Colors 1':\n",
    "                    layer = [image.select('B12').multiply(2.6), image.select('B8').multiply(1.9), image.select('B2').multiply(2.7)] #NIRSWIRColors1\n",
    "                elif input == 'NIR SWIR Colors 2':\n",
    "                    layer = [image.select('B12').multiply(2.4), image.select('B8A').multiply(1.7), image.select('B5').multiply(2.2)] #NIRSWIRColors2\n",
    "                elif input == 'NIR SWIR Colors 3':\n",
    "                    layer = [((image.select('B12').add(image.select('B11'))).multiply(0.5).divide(4)).divide(image.select('B7')), image.select('B8A').multiply(0.8), image.select('B7')] #NIRSWIRColors3\n",
    "                elif input == 'NIR SWIR Colors 4':\n",
    "                    layer = [image.select('B12').multiply(2.0), image.select('B11').multiply(1.1), image.select('B8').multiply(1.6)] #NIRSWIRColors4\n",
    "                elif input == 'Natural NIR SWIR Mix':\n",
    "                    layer = [(image.select('B4').multiply(2.1)).add(image.select('B12').multiply(0.5)), (image.select('B3').multiply(2.2)).add(image.select('B8').multiply(0.5)),\n",
    "                             image.select('B2').multiply(3.0)] #NaturalNIRSWIRMix\n",
    "                elif input == 'False Color':\n",
    "                    layer = [image.select('B8').multiply(2), image.select('B4').multiply(2), image.select('B3').multiply(2)] #FalseColor\n",
    "                elif input == 'Natural False Color':\n",
    "                    layer = [image.select('B12').multiply(2.6), image.select('B11').multiply(2), image.select('B4').multiply(2.7)] #NatFalseColor\n",
    "                elif input == 'Vegetation':\n",
    "                    layer = [image.select('B11').multiply(2.4), image.select('B8A').multiply(2), image.select('B4').multiply(2.9)] #Vegetation\n",
    "                elif input == 'Pan Band':\n",
    "                    layer = [image.select('B8'), image.select('B8'), image.select('B8')] #PanBand\n",
    "                return layer\n",
    "\n",
    "            layer1 = combo_selection(visbands.value, image)\n",
    "            layer2 = combo_selection(visbands_2.value, image)\n",
    "            layer1Amount = opac_1.value\n",
    "            layer2Amount = opac_2.value\n",
    "\n",
    "            stretchMin = stretch_min.value\n",
    "            stretchMax = stretch_max.value\n",
    "            saturation = satur.value\n",
    "            fireSensitivity = sensit.value\n",
    "            manualCorrection = [corr_R.value, corr_G.value, corr_B.value]\n",
    "\n",
    "            def blend(bArr1, bArr2, opa1, opa2):\n",
    "                result_list =[]\n",
    "                for (a_img,b_img) in zip(bArr1, bArr2):\n",
    "                    result_list.append(a_img.divide(opa1).add(b_img.divide(opa2)))\n",
    "                return result_list\n",
    "\n",
    "            noFire = blend(layer1, layer2, layer1Amount, layer2Amount)\n",
    "\n",
    "            def satEnh(rgbArr):\n",
    "                avg = functools.reduce(lambda a, b: a.add(b), rgbArr).divide(len(rgbArr))\n",
    "                result = [(avg.multiply(1 - saturation)).add(img.multiply(saturation)) for img in rgbArr]\n",
    "                return result \n",
    "\n",
    "            def applyEnh(bArr):\n",
    "                return satEnh([stretch(bArr[0], stretchMin, stretchMax), stretch(bArr[1], stretchMin, stretchMax), stretch(bArr[2], stretchMin, stretchMax)])\n",
    "\n",
    "            def correction(manual_num, arrRGB):\n",
    "                return [arrRGB[0].add(manual_num[0]), arrRGB[1].add(manual_num[1]), arrRGB[2].add(manual_num[2])]\n",
    "\n",
    "            noFire_final = applyEnh(noFire)\n",
    "            noFire_final = correction(manualCorrection, noFire_final)\n",
    "            noFire_final = ee.Image(noFire_final).rename(['R_new', 'G_new', 'B_new'])\n",
    "\n",
    "            img_exp = image.select('B11').add(image.select('B12')).rename('SWIR_dif') \n",
    "\n",
    "            noFire_final = noFire_final.where(img_exp.select(\"SWIR_dif\").gt(1/fireSensitivity), fire_layers[0])\n",
    "            noFire_final = noFire_final.where(img_exp.select(\"SWIR_dif\").gt(2/fireSensitivity), fire_layers[2])\n",
    "            noFire_final = noFire_final.where(img_exp.select(\"SWIR_dif\").gt(1.5/fireSensitivity), fire_layers[1])\n",
    "\n",
    "            visParams = {\"min\": visParams_widget_1.value, \"max\": visParams_widget_2.value, \"bands\": [\"R_new\", \"G_new\", \"B_new\"]}\n",
    "\n",
    "            date = ee.Date(image_final.get('system:time_start')).format('YYYY-MM-dd')\n",
    "            \n",
    "            if cropping_widget.value == 'Crop ROI':   \n",
    "                m.addLayer(noFire_final.clip(roi), visParams,  visbands.value + ' ' + visbands_2.value + '; ' + date.getInfo())\n",
    "            else:\n",
    "                m.addLayer(noFire_final, visParams, visbands.value + ' ' + visbands_2.value + '; ' + date.getInfo())\n",
    "            output_widget.clear_output()\n",
    "            \n",
    "        except Exception as e:\n",
    "            print(e)\n",
    "            print(Fore.RED + 'Try again! An error occured')\n",
    "            \n",
    "vis.on_click(visualize)"
   ]
  },
  {
   "cell_type": "code",
   "execution_count": 12,
   "id": "3392717d-53fd-4270-81de-ac85af8f3d80",
   "metadata": {},
   "outputs": [],
   "source": [
    "def collection_retr(start, finish, roi):\n",
    "    collection = \"COPERNICUS/S2\" \n",
    "    s2_coll = (ee.ImageCollection(collection)\n",
    "        .filterDate(start, finish)\n",
    "        .filterBounds(roi))\n",
    "    return s2_coll"
   ]
  },
  {
   "cell_type": "code",
   "execution_count": 15,
   "id": "eecdc434",
   "metadata": {},
   "outputs": [
    {
     "name": "stdout",
     "output_type": "stream",
     "text": [
      "ipywidgets==7.7.1\n",
      "numpy==1.23.1\n",
      "ipyleaflet==0.17.0\n",
      "geemap==0.16.1\n",
      "colorama==0.4.5\n"
     ]
    }
   ],
   "source": [
    "import pkg_resources\n",
    "import types\n",
    "def get_imports():\n",
    "    for name, val in globals().items():\n",
    "        if isinstance(val, types.ModuleType):\n",
    "            # Split ensures you get root package, \n",
    "            # not just imported function\n",
    "            name = val.__name__.split(\".\")[0]\n",
    "\n",
    "        elif isinstance(val, type):\n",
    "            name = val.__module__.split(\".\")[0]\n",
    "\n",
    "        # Some packages are weird and have different\n",
    "        # imported names vs. system/pip names. Unfortunately,\n",
    "        # there is no systematic way to get pip names from\n",
    "        # a package's imported name. You'll have to add\n",
    "        # exceptions to this list manually!\n",
    "        poorly_named_packages = {\n",
    "            \"PIL\": \"Pillow\",\n",
    "            \"sklearn\": \"scikit-learn\"\n",
    "        }\n",
    "        if name in poorly_named_packages.keys():\n",
    "            name = poorly_named_packages[name]\n",
    "\n",
    "        yield name\n",
    "imports = list(set(get_imports()))\n",
    "\n",
    "# The only way I found to get the version of the root package\n",
    "# from only the name of the package is to cross-check the names \n",
    "# of installed packages vs. imported packages\n",
    "requirements = []\n",
    "for m in pkg_resources.working_set:\n",
    "    if m.project_name in imports and m.project_name!=\"pip\":\n",
    "        requirements.append((m.project_name, m.version))\n",
    "\n",
    "for r in requirements:\n",
    "    print(\"{}=={}\".format(*r))"
   ]
  },
  {
   "cell_type": "code",
   "execution_count": null,
   "id": "910c7815",
   "metadata": {},
   "outputs": [],
   "source": []
  }
 ],
 "metadata": {
  "kernelspec": {
   "display_name": "export_geemap",
   "language": "python",
   "name": "export_geemap"
  },
  "language_info": {
   "codemirror_mode": {
    "name": "ipython",
    "version": 3
   },
   "file_extension": ".py",
   "mimetype": "text/x-python",
   "name": "python",
   "nbconvert_exporter": "python",
   "pygments_lexer": "ipython3",
   "version": "3.8.13"
  }
 },
 "nbformat": 4,
 "nbformat_minor": 5
}
